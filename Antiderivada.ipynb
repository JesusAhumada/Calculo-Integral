{
  "nbformat": 4,
  "nbformat_minor": 0,
  "metadata": {
    "colab": {
      "provenance": [],
      "toc_visible": true,
      "authorship_tag": "ABX9TyMI3kXlH38Qp1FDqjWfRvJL",
      "include_colab_link": true
    },
    "kernelspec": {
      "name": "python3",
      "display_name": "Python 3"
    },
    "language_info": {
      "name": "python"
    }
  },
  "cells": [
    {
      "cell_type": "markdown",
      "metadata": {
        "id": "view-in-github",
        "colab_type": "text"
      },
      "source": [
        "<a href=\"https://colab.research.google.com/github/JesusAhumada/Calculo-Integral/blob/main/Antiderivada.ipynb\" target=\"_parent\"><img src=\"https://colab.research.google.com/assets/colab-badge.svg\" alt=\"Open In Colab\"/></a>"
      ]
    },
    {
      "cell_type": "markdown",
      "source": [
        "# **Antiderivada**\n",
        "\n",
        "La antiderivada son fundamentales en muchas áreas de la matemáticas y físicas, algunas de sus aplicaciones que podemos encontrar son:\n",
        "\n",
        "\n",
        "* Un  físico que conoce la velocidad de una partícula podría desear conocer su posición en un instante dado.\n",
        "* Un biólogo que conoce la rapidez a la que crece una población de bacterias puede deducir el tamaño de la población en algún momento futuro.  \n",
        "\n",
        "Cada uno de estos casos se debe encontrar una función $F$ cuya derivada es la función conocida $f$, a esto se le llama como antiderivada.\n",
        "\n",
        "\n",
        "<br>\n",
        "<div style=\"border-left: 6px solid #2196F3; background-color: #e7f3fe; padding: 10px;\">\n",
        "<b>Definición 1.</b> Una función \\( F \\) recibe el nombre de antiderivada de \\(f\\) sobre un intervalo \\(I\\) si \\(F'(x)=f(x)\\) para toda \\(x \\in I\\).\n",
        "</div>\n",
        "\n",
        "<br>\n",
        "\n",
        "<div style=\"background-color: #fff3cd; border-left: 5px solid #ffa500; padding: 10px;\">\n",
        "<b>Ejemplo 1.</b>\n",
        "Acontinuación, utilice el siguiente codigo para calcular la antiderivada de las sifuientes funciones:\n",
        "\n",
        "\n",
        "*   $y=3x^2 + 4x$\n",
        "*   $f(x)= 5x^3 -6x^3$\n",
        "</div>\n"
      ],
      "metadata": {
        "id": "2VGpWTrxAHCG"
      }
    },
    {
      "cell_type": "code",
      "source": [
        "from sympy import Symbol, integrate, sympify\n",
        "from sympy.core.sympify import SympifyError\n",
        "\n",
        "# Define the variable\n",
        "x = Symbol('x')\n",
        "\n",
        "# Get function input from the user\n",
        "function_str = input(\"Introduce la función a la que quieres calcular la antiderivada (en términos de x): \")\n",
        "\n",
        "try:\n",
        "    # Convert the input string to a sympy expression\n",
        "    f = sympify(function_str)\n",
        "\n",
        "    # Calculate the antiderivative\n",
        "    antiderivative = integrate(f, x)\n",
        "\n",
        "    # Display the result\n",
        "    print(f\"La antiderivada de {f} es: {antiderivative} + C\")\n",
        "\n",
        "except SympifyError:\n",
        "    print(\"Entrada inválida. Asegúrate de que la función está escrita correctamente en términos de x.\")\n",
        "except Exception as e:\n",
        "    print(f\"Ocurrió un error: {e}\")"
      ],
      "metadata": {
        "colab": {
          "base_uri": "https://localhost:8080/"
        },
        "id": "_QMdaoGVHOS9",
        "outputId": "d5c44f77-c4ae-4146-e069-10e69443aa01"
      },
      "execution_count": 2,
      "outputs": [
        {
          "output_type": "stream",
          "name": "stdout",
          "text": [
            "Introduce la función a la que quieres calcular la antiderivada (en términos de x): x**3\n",
            "La antiderivada de x**3 es: x**4/4 + C\n"
          ]
        }
      ]
    },
    {
      "cell_type": "markdown",
      "source": [
        "Codigo para calcular la constante de \\( C\\) dada una condición inicial"
      ],
      "metadata": {
        "id": "mujX0j7RoUm9"
      }
    },
    {
      "cell_type": "markdown",
      "source": [
        "El siguiente código nos permitira encontrar la contante de integración medinate una condición inicial.\n",
        "\n",
        "<div style=\"background-color: #fff3cd; border-left: 5px solid #ffa500; padding: 10px;\">\n",
        "<b>Ejemplo 2.</b>\n",
        "Acontinuación, utilice el siguiente codigo para calcular la antiderivada de las sifuientes funciones:\n",
        "\n",
        "\n",
        "*   $y=3x^2 + 4x,\\;  f(1)=0$\n",
        "*   $f(x)= 5x^3 -6x^3,\\;  f(2)=3$\n",
        "</div>\n"
      ],
      "metadata": {
        "id": "BJLZ8O48SoLB"
      }
    },
    {
      "cell_type": "code",
      "source": [
        "# @title Texto de título predeterminado\n",
        "from sympy import Symbol, integrate, Eq, solve\n",
        "from sympy.core.sympify import SympifyError\n",
        "\n",
        "# Define the variable\n",
        "x = Symbol('x')\n",
        "\n",
        "# Get function input from the user\n",
        "function_str = input(\"Introduce la función a la que quieres calcular la antiderivada (en términos de x): \")\n",
        "initial_condition_str = input(\"Introduce la condición inicial en el formato 'f(a)=b' (por ejemplo, 'f(1)=0'): \")\n",
        "\n",
        "try:\n",
        "    # Convert the input string to a sympy expression\n",
        "    f = sympify(function_str)\n",
        "\n",
        "    # Calculate the antiderivative with the constant C\n",
        "    C = Symbol('C')\n",
        "    antiderivative_with_C = integrate(f, x) + C\n",
        "\n",
        "    # Parse the initial condition string\n",
        "    # Assuming the format is f(a)=b\n",
        "    parts = initial_condition_str.replace('f(', '').replace(')', '').split('=')\n",
        "    if len(parts) != 2:\n",
        "        raise ValueError(\"Formato de condición inicial inválido.\")\n",
        "\n",
        "    a = float(parts[0])\n",
        "    b = float(parts[1])\n",
        "\n",
        "    # Substitute the initial condition into the antiderivative\n",
        "    equation = Eq(antiderivative_with_C.subs(x, a), b)\n",
        "\n",
        "    # Solve for C\n",
        "    solution = solve(equation, C)\n",
        "\n",
        "    if solution:\n",
        "        constant_of_integration = solution[0]\n",
        "        print(f\"La constante de integración C es: {constant_of_integration}\")\n",
        "        print(f\"La antiderivada particular es: {antiderivative_with_C.subs(C, constant_of_integration)}\")\n",
        "    else:\n",
        "        print(\"No se pudo encontrar una solución para la constante de integración con la condición inicial proporcionada.\")\n",
        "\n",
        "except SympifyError:\n",
        "    print(\"Entrada de función inválida. Asegúrate de que la función está escrita correctamente en términos de x.\")\n",
        "except ValueError as ve:\n",
        "    print(f\"Error en la condición inicial: {ve}\")\n",
        "except Exception as e:\n",
        "    print(f\"Ocurrió un error: {e}\")"
      ],
      "metadata": {
        "id": "zNODtb8yaIU6"
      },
      "execution_count": null,
      "outputs": []
    }
  ]
}