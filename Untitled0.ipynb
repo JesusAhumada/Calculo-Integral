{
  "nbformat": 4,
  "nbformat_minor": 0,
  "metadata": {
    "colab": {
      "provenance": [],
      "authorship_tag": "ABX9TyP8135NLrme62Z+B46Ro83U",
      "include_colab_link": true
    },
    "kernelspec": {
      "name": "python3",
      "display_name": "Python 3"
    },
    "language_info": {
      "name": "python"
    }
  },
  "cells": [
    {
      "cell_type": "markdown",
      "metadata": {
        "id": "view-in-github",
        "colab_type": "text"
      },
      "source": [
        "<a href=\"https://colab.research.google.com/github/JesusAhumada/Calculo-Integral/blob/main/Untitled0.ipynb\" target=\"_parent\"><img src=\"https://colab.research.google.com/assets/colab-badge.svg\" alt=\"Open In Colab\"/></a>"
      ]
    },
    {
      "cell_type": "code",
      "execution_count": null,
      "metadata": {
        "id": "wvDy_5CQyx-w"
      },
      "outputs": [],
      "source": []
    },
    {
      "cell_type": "markdown",
      "source": [
        "# **Antiderivada**\n",
        "**Definición:**\n",
        "\n",
        "Una funcióin *F* recibe el nombre de antiderivada de *f* sobre un intervalo I si *F'(x)=f(x)* para toda x en I.\n",
        "\n",
        "Acontinuación utilice el siguiente codigo para calcular las antiderivadas de las sifuientes funciones:\n",
        "\n",
        "\n",
        "*   y=3x2 + 4x\n",
        "*   f(x)= 5x3 -6x3\n",
        "\n"
      ],
      "metadata": {
        "id": "2VGpWTrxAHCG"
      }
    },
    {
      "cell_type": "code",
      "source": [
        "from sympy import Symbol, integrate, sympify\n",
        "from sympy.core.sympify import SympifyError\n",
        "\n",
        "# Define the variable\n",
        "x = Symbol('x')\n",
        "\n",
        "# Get function input from the user\n",
        "function_str = input(\"Introduce la función a la que quieres calcular la antiderivada (en términos de x): \")\n",
        "\n",
        "try:\n",
        "    # Convert the input string to a sympy expression\n",
        "    f = sympify(function_str)\n",
        "\n",
        "    # Calculate the antiderivative\n",
        "    antiderivative = integrate(f, x)\n",
        "\n",
        "    # Display the result\n",
        "    print(f\"La antiderivada de {f} es: {antiderivative} + C\")\n",
        "\n",
        "except SympifyError:\n",
        "    print(\"Entrada inválida. Asegúrate de que la función está escrita correctamente en términos de x.\")\n",
        "except Exception as e:\n",
        "    print(f\"Ocurrió un error: {e}\")"
      ],
      "metadata": {
        "colab": {
          "base_uri": "https://localhost:8080/"
        },
        "id": "_QMdaoGVHOS9",
        "outputId": "f7e45f9e-5bdc-4978-8ef8-c2a52fd6e42c"
      },
      "execution_count": 3,
      "outputs": [
        {
          "output_type": "stream",
          "name": "stdout",
          "text": [
            "Introduce la función a la que quieres calcular la antiderivada (en términos de x): x**2\n",
            "La antiderivada de x**2 es: x**3/3 + C\n"
          ]
        }
      ]
    }
  ]
}