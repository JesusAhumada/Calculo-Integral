{
  "nbformat": 4,
  "nbformat_minor": 0,
  "metadata": {
    "colab": {
      "provenance": [],
      "toc_visible": true,
      "authorship_tag": "ABX9TyN34zppiRSDtbt8IWHjPFfE",
      "include_colab_link": true
    },
    "kernelspec": {
      "name": "python3",
      "display_name": "Python 3"
    },
    "language_info": {
      "name": "python"
    }
  },
  "cells": [
    {
      "cell_type": "markdown",
      "metadata": {
        "id": "view-in-github",
        "colab_type": "text"
      },
      "source": [
        "<a href=\"https://colab.research.google.com/github/JesusAhumada/Calculo-Integral/blob/main/Integralporsustitucion.ipynb\" target=\"_parent\"><img src=\"https://colab.research.google.com/assets/colab-badge.svg\" alt=\"Open In Colab\"/></a>"
      ]
    },
    {
      "cell_type": "markdown",
      "source": [
        "\\begin{teorema}{La regla de sustitución}{La regla de sustitución}\n",
        "\n",
        "La regla de sustitución\n",
        "Si $u=g(x)$ es una función diferenciable cuyo rango es un intervalo $I$ y $f$ es continua en $I$, entonces\n",
        "\n",
        "\\begin{equation}\n",
        "\n",
        "∫f(g(x))g'(x)dx = \\int f(u)du\n",
        "\n",
        "\\end{equation}\n",
        "\n",
        "\\end{teorema}\n",
        "\n",
        "<div style=\"background-color: #fff3cd; border-left: 5px solid #ffa500; padding: 10px;\">\n",
        "<b>Ejemplo 1.</b>\n",
        "Acontinuación, utilizaremos el siguiente código en Python para calcular la siguiente integral por sustitución:\n",
        "\n",
        "*   $\\int 2xcos(x^2) dx$\n",
        "\n",
        "</div>"
      ],
      "metadata": {
        "id": "m-FRPQPBTEkn"
      }
    },
    {
      "cell_type": "code",
      "execution_count": 1,
      "metadata": {
        "colab": {
          "base_uri": "https://localhost:8080/",
          "height": 265
        },
        "id": "Cab36lZFS3ys",
        "outputId": "b5d66911-b284-4df5-8b69-2f79e0c623fe"
      },
      "outputs": [
        {
          "output_type": "stream",
          "name": "stdout",
          "text": [
            "Integral original:\n"
          ]
        },
        {
          "output_type": "display_data",
          "data": {
            "text/plain": [
              "2*x*cos(x**2)"
            ],
            "text/latex": "$\\displaystyle 2 x \\cos{\\left(x^{2} \\right)}$"
          },
          "metadata": {}
        },
        {
          "output_type": "stream",
          "name": "stdout",
          "text": [
            "Resultado de la integral directa:\n"
          ]
        },
        {
          "output_type": "display_data",
          "data": {
            "text/plain": [
              "sin(x**2)"
            ],
            "text/latex": "$\\displaystyle \\sin{\\left(x^{2} \\right)}$"
          },
          "metadata": {}
        },
        {
          "output_type": "stream",
          "name": "stdout",
          "text": [
            "\n",
            "Sustitución: u = x^2\n",
            "du/dx = 0\n",
            "Integral en términos de u:\n"
          ]
        },
        {
          "output_type": "display_data",
          "data": {
            "text/plain": [
              "zoo*x*cos(u)"
            ],
            "text/latex": "$\\displaystyle \\tilde{\\infty} x \\cos{\\left(u \\right)}$"
          },
          "metadata": {}
        },
        {
          "output_type": "stream",
          "name": "stdout",
          "text": [
            "Integral respecto a u:\n"
          ]
        },
        {
          "output_type": "display_data",
          "data": {
            "text/plain": [
              "zoo*x*sin(u)"
            ],
            "text/latex": "$\\displaystyle \\tilde{\\infty} x \\sin{\\left(u \\right)}$"
          },
          "metadata": {}
        },
        {
          "output_type": "stream",
          "name": "stdout",
          "text": [
            "Resultado final (en x):\n"
          ]
        },
        {
          "output_type": "display_data",
          "data": {
            "text/plain": [
              "zoo*x*sin(x**2)"
            ],
            "text/latex": "$\\displaystyle \\tilde{\\infty} x \\sin{\\left(x^{2} \\right)}$"
          },
          "metadata": {}
        }
      ],
      "source": [
        "import sympy as sp\n",
        "\n",
        "# Definir la variable original\n",
        "x = sp.Symbol('x')\n",
        "\n",
        "# Ejemplo: integral de (2x)*cos(x^2) dx\n",
        "f = 2*x*sp.cos(x**2)\n",
        "\n",
        "print(\"Integral original:\")\n",
        "display(f)\n",
        "\n",
        "# Calcular directamente la integral\n",
        "integral_directa = sp.integrate(f, x)\n",
        "print(\"Resultado de la integral directa:\")\n",
        "display(integral_directa)\n",
        "\n",
        "# =====================================\n",
        "# Sustitución: u = x^2\n",
        "# =====================================\n",
        "u = sp.Symbol('u')\n",
        "sustitucion = {u: x**2}    # u = x^2\n",
        "du_dx = sp.diff(u, x)      # derivada du/dx\n",
        "\n",
        "print(\"\\nSustitución: u = x^2\")\n",
        "print(\"du/dx =\", du_dx)\n",
        "\n",
        "# Reescribir la integral en términos de u\n",
        "f_u = f.subs(x**2, u) / du_dx\n",
        "print(\"Integral en términos de u:\")\n",
        "display(f_u)\n",
        "\n",
        "# Integrar en u\n",
        "integral_u = sp.integrate(f_u, u)\n",
        "print(\"Integral respecto a u:\")\n",
        "display(integral_u)\n",
        "\n",
        "# Volver a la variable original\n",
        "resultado = integral_u.subs(u, x**2)\n",
        "print(\"Resultado final (en x):\")\n",
        "display(resultado)"
      ]
    }
  ]
}